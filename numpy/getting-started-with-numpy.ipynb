{
 "cells": [
  {
   "metadata": {},
   "cell_type": "markdown",
   "source": [
    "# Getting Started with NumPy\n",
    "Course: https://app.pluralsight.com/library/courses/numpy-getting-started"
   ],
   "id": "32297e0047d5ab68"
  },
  {
   "metadata": {
    "collapsed": true,
    "ExecuteTime": {
     "end_time": "2025-03-04T13:28:01.429440Z",
     "start_time": "2025-03-04T13:28:01.425468Z"
    }
   },
   "cell_type": "code",
   "source": "import numpy as np",
   "id": "initial_id",
   "outputs": [],
   "execution_count": 3
  },
  {
   "metadata": {
    "ExecuteTime": {
     "end_time": "2025-03-04T13:31:13.406813Z",
     "start_time": "2025-03-04T13:31:13.400763Z"
    }
   },
   "cell_type": "code",
   "source": [
    "# Create One Dimensional Array\n",
    "arr = np.array((1, 2, 3, 4, 5))\n",
    "print(arr)"
   ],
   "id": "8c834c7ae037d262",
   "outputs": [
    {
     "name": "stdout",
     "output_type": "stream",
     "text": [
      "[1 2 3 4 5]\n"
     ]
    }
   ],
   "execution_count": 7
  },
  {
   "metadata": {
    "ExecuteTime": {
     "end_time": "2025-03-04T13:42:03.132539Z",
     "start_time": "2025-03-04T13:42:03.127505Z"
    }
   },
   "cell_type": "code",
   "source": [
    "# 2 dimensional array\n",
    "two_dim_arr = np.array(([1, 2], [3, 4], [5, \"HELLO\"]))\n",
    "print(two_dim_arr)"
   ],
   "id": "479be4c967e227cc",
   "outputs": [
    {
     "name": "stdout",
     "output_type": "stream",
     "text": [
      "[['1' '2']\n",
      " ['3' '4']\n",
      " ['5' 'HELLO']]\n"
     ]
    }
   ],
   "execution_count": 53
  },
  {
   "metadata": {
    "ExecuteTime": {
     "end_time": "2025-03-04T13:45:00.264212Z",
     "start_time": "2025-03-04T13:45:00.258242Z"
    }
   },
   "cell_type": "code",
   "source": "two_dim_arr.dtype",
   "id": "f6cfce5a02a5163",
   "outputs": [
    {
     "data": {
      "text/plain": [
       "dtype('<U21')"
      ]
     },
     "execution_count": 56,
     "metadata": {},
     "output_type": "execute_result"
    }
   ],
   "execution_count": 56
  },
  {
   "metadata": {},
   "cell_type": "markdown",
   "source": "## NDarray attributes",
   "id": "b302fc5986c8421"
  },
  {
   "metadata": {
    "ExecuteTime": {
     "end_time": "2025-03-04T13:46:24.213123Z",
     "start_time": "2025-03-04T13:46:24.207858Z"
    }
   },
   "cell_type": "code",
   "source": [
    "# Shape gives you the shape of the array size and dimension\n",
    "two_dim_arr.shape"
   ],
   "id": "2ee193d7f66f172f",
   "outputs": [
    {
     "data": {
      "text/plain": [
       "(3, 2)"
      ]
     },
     "execution_count": 63,
     "metadata": {},
     "output_type": "execute_result"
    }
   ],
   "execution_count": 63
  },
  {
   "metadata": {
    "ExecuteTime": {
     "end_time": "2025-03-04T13:46:34.562951Z",
     "start_time": "2025-03-04T13:46:34.558404Z"
    }
   },
   "cell_type": "code",
   "source": [
    "# Get the dimension\n",
    "two_dim_arr.ndim"
   ],
   "id": "b3e4389e1ebd52d3",
   "outputs": [
    {
     "data": {
      "text/plain": [
       "2"
      ]
     },
     "execution_count": 64,
     "metadata": {},
     "output_type": "execute_result"
    }
   ],
   "execution_count": 64
  },
  {
   "metadata": {
    "ExecuteTime": {
     "end_time": "2025-03-04T13:46:40.292406Z",
     "start_time": "2025-03-04T13:46:40.286875Z"
    }
   },
   "cell_type": "code",
   "source": [
    "# Get the size\n",
    "two_dim_arr.size"
   ],
   "id": "fa6872df32cc9afa",
   "outputs": [
    {
     "data": {
      "text/plain": [
       "6"
      ]
     },
     "execution_count": 65,
     "metadata": {},
     "output_type": "execute_result"
    }
   ],
   "execution_count": 65
  },
  {
   "metadata": {},
   "cell_type": "markdown",
   "source": "## Creating arrays",
   "id": "ea421f89c693147a"
  },
  {
   "metadata": {
    "ExecuteTime": {
     "end_time": "2025-03-04T13:48:44.723896Z",
     "start_time": "2025-03-04T13:48:44.718249Z"
    }
   },
   "cell_type": "code",
   "source": [
    "empty_arr = np.empty(shape=(1, 2), dtype=int)\n",
    "print(empty_arr)  # Contains random values"
   ],
   "id": "e9a2ee7a016031c9",
   "outputs": [
    {
     "name": "stdout",
     "output_type": "stream",
     "text": [
      "[[2452371359472             0]]\n"
     ]
    }
   ],
   "execution_count": 105
  },
  {
   "metadata": {
    "ExecuteTime": {
     "end_time": "2025-03-04T13:50:09.668560Z",
     "start_time": "2025-03-04T13:50:09.664609Z"
    }
   },
   "cell_type": "code",
   "source": [
    "full_array = np.full(shape=(2, 2), fill_value=10, dtype=int)\n",
    "print(full_array) # Is filled with 10"
   ],
   "id": "c6bbc20df43b236c",
   "outputs": [
    {
     "name": "stdout",
     "output_type": "stream",
     "text": [
      "[[10 10]\n",
      " [10 10]]\n"
     ]
    }
   ],
   "execution_count": 110
  },
  {
   "metadata": {
    "ExecuteTime": {
     "end_time": "2025-03-04T13:50:35.784760Z",
     "start_time": "2025-03-04T13:50:35.778512Z"
    }
   },
   "cell_type": "code",
   "source": [
    "zero_arr = np.zeros(shape=(2,2))\n",
    "print(zero_arr)"
   ],
   "id": "28bd21c91085c546",
   "outputs": [
    {
     "name": "stdout",
     "output_type": "stream",
     "text": [
      "[[0. 0.]\n",
      " [0. 0.]]\n"
     ]
    }
   ],
   "execution_count": 111
  }
 ],
 "metadata": {
  "kernelspec": {
   "display_name": "Python 3",
   "language": "python",
   "name": "python3"
  },
  "language_info": {
   "codemirror_mode": {
    "name": "ipython",
    "version": 2
   },
   "file_extension": ".py",
   "mimetype": "text/x-python",
   "name": "python",
   "nbconvert_exporter": "python",
   "pygments_lexer": "ipython2",
   "version": "2.7.6"
  }
 },
 "nbformat": 4,
 "nbformat_minor": 5
}
